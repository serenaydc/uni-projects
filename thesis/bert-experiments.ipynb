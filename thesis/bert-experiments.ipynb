{
 "cells": [
  {
   "cell_type": "code",
   "execution_count": 1,
   "metadata": {},
   "outputs": [],
   "source": [
    "import numpy as np\n",
    "import pandas as pd\n",
    "from sklearn.svm import SVC\n",
    "from sklearn.metrics import f1_score\n",
    "from sklearn.metrics import confusion_matrix\n",
    "from sklearn.metrics import ConfusionMatrixDisplay\n",
    "from sklearn.model_selection import GridSearchCV\n",
    "from collections import Counter"
   ]
  },
  {
   "cell_type": "code",
   "execution_count": 2,
   "metadata": {},
   "outputs": [],
   "source": [
    "train = pd.read_csv(\"train.csv\")\n",
    "test = pd.read_csv(\"test.csv\")"
   ]
  },
  {
   "attachments": {},
   "cell_type": "markdown",
   "metadata": {},
   "source": [
    "Load the data"
   ]
  },
  {
   "cell_type": "code",
   "execution_count": 3,
   "metadata": {},
   "outputs": [],
   "source": [
    "X_train_cls = np.load(\"bert_train_embeddings_cls.npy\", allow_pickle=True)\n",
    "X_test_cls = np.load(\"bert_test_embeddings_cls.npy\", allow_pickle=True)"
   ]
  },
  {
   "cell_type": "code",
   "execution_count": null,
   "metadata": {},
   "outputs": [],
   "source": [
    "X_train_mean = np.load(\"bert_train_embeddings_mean.npy\", allow_pickle=True)\n",
    "X_test_mean = np.load(\"bert_test_embeddings_mean.npy\", allow_pickle=True)"
   ]
  },
  {
   "cell_type": "code",
   "execution_count": 4,
   "metadata": {},
   "outputs": [],
   "source": [
    "X_train_max = np.load(\"bert_train_embeddings_max.npy\", allow_pickle=True)\n",
    "X_test_max = np.load(\"bert_test_embeddings_max.npy\", allow_pickle=True)"
   ]
  },
  {
   "cell_type": "code",
   "execution_count": null,
   "metadata": {},
   "outputs": [],
   "source": [
    "X_train_attention = np.load(\"bert_train_embeddings_attention.npy\", allow_pickle=True)\n",
    "X_test_attention = np.load(\"bert_test_embeddings_attention.npy\", allow_pickle=True)"
   ]
  },
  {
   "cell_type": "code",
   "execution_count": 5,
   "metadata": {},
   "outputs": [],
   "source": [
    "X_train_mixed = np.load(\"bert_train_embeddings_mixed.npy\", allow_pickle=True)\n",
    "X_test_mixed = np.load(\"bert_test_embeddings_mixed.npy\", allow_pickle=True)"
   ]
  },
  {
   "cell_type": "code",
   "execution_count": null,
   "metadata": {},
   "outputs": [],
   "source": [
    "y_train = train[\"Class Index\"]\n",
    "y_test = train[\"Class Index\"]"
   ]
  },
  {
   "cell_type": "code",
   "execution_count": null,
   "metadata": {},
   "outputs": [],
   "source": [
    "# Create the SVM classifier\n",
    "svc = SVC()"
   ]
  },
  {
   "cell_type": "code",
   "execution_count": null,
   "metadata": {},
   "outputs": [],
   "source": [
    "# Define the parameter grid to search over\n",
    "param_grid = {\n",
    "    'C': [0.1, 1, 10],\n",
    "    'kernel': ['linear', 'rbf', 'poly'],\n",
    "    'degree': [2, 3, 4]\n",
    "}"
   ]
  },
  {
   "attachments": {},
   "cell_type": "markdown",
   "metadata": {},
   "source": [
    "CLS token"
   ]
  },
  {
   "cell_type": "code",
   "execution_count": null,
   "metadata": {},
   "outputs": [],
   "source": [
    "# Initialize a list to store the best hyperparameters for each batch\n",
    "best_params_list = []\n",
    "\n",
    "batch_size = 1000\n",
    "\n",
    "num_batches = X_train_cls.shape[0] // batch_size\n",
    "\n",
    "# Loop through the batches\n",
    "for i in range(num_batches):\n",
    "    # Get the batch indices\n",
    "    start_idx = i * batch_size\n",
    "    end_idx = min((i+1) * batch_size, X_train_cls.shape[0])\n",
    "\n",
    "    # Get the batch data\n",
    "    X_batch = X_train_cls[start_idx:end_idx]\n",
    "    y_batch = y_train[start_idx:end_idx]\n",
    "\n",
    "    # Perform grid search using cross-validation on the batch data\n",
    "    grid_search = GridSearchCV(estimator=svc, param_grid=param_grid, cv=3)\n",
    "    grid_search.fit(X_batch, y_batch)\n",
    "\n",
    "    # Retrieve the best hyperparameters and append them to the list\n",
    "    best_params_list.append(tuple(sorted(grid_search.best_params_.items())))"
   ]
  },
  {
   "cell_type": "code",
   "execution_count": null,
   "metadata": {},
   "outputs": [],
   "source": [
    "# Compute the most common hyperparameters among all batches\n",
    "\n",
    "# Get the most common set of hyperparameters\n",
    "common_params = dict(Counter(best_params_list).most_common(1)[0][0])\n",
    "\n",
    "# Create a new SVM classifier using the common hyperparameters\n",
    "svc_best = SVC(**common_params)\n",
    "\n",
    "# Fit the new classifier to the whole training data\n",
    "svc_best.fit(X_train_cls, y_train)"
   ]
  },
  {
   "cell_type": "code",
   "execution_count": null,
   "metadata": {},
   "outputs": [],
   "source": [
    "# Calculate the score of svc_best on the test set\n",
    "svc_best.score(X_test_cls, y_test)"
   ]
  },
  {
   "cell_type": "code",
   "execution_count": null,
   "metadata": {},
   "outputs": [],
   "source": [
    "# Predict the target labels for the test data using the best-trained support vector classifier\n",
    "y_pred = svc_best.predict(X_test_cls)"
   ]
  },
  {
   "cell_type": "code",
   "execution_count": null,
   "metadata": {},
   "outputs": [],
   "source": [
    "# Calculate the F1 score for the predicted labels compared to the true labels\n",
    "# The average parameter is set to 'macro' to compute the F1 score for each class independently\n",
    "f1_score(y_test, y_pred, average='macro')"
   ]
  },
  {
   "cell_type": "code",
   "execution_count": null,
   "metadata": {},
   "outputs": [],
   "source": [
    "# Calculate the confusion matrix for the predicted labels compared to the true labels\n",
    "matrx = confusion_matrix(y_test, y_pred)\n",
    "\n",
    "# Create a ConfusionMatrixDisplay object with the confusion matrix\n",
    "# Specify the display labels as a list of range(4) to represent the class labels\n",
    "disp = ConfusionMatrixDisplay(matrx, display_labels = list(range(4)))\n",
    "\n",
    "# Plot the confusion matrix using the ConfusionMatrixDisplay object\n",
    "disp.plot()"
   ]
  },
  {
   "attachments": {},
   "cell_type": "markdown",
   "metadata": {},
   "source": [
    "Mean - pooling"
   ]
  },
  {
   "cell_type": "code",
   "execution_count": null,
   "metadata": {},
   "outputs": [],
   "source": [
    "# Initialize a list to store the best hyperparameters for each batch\n",
    "best_params_list = []\n",
    "\n",
    "batch_size = 1000\n",
    "\n",
    "num_batches = X_train_mean.shape[0] // batch_size\n",
    "\n",
    "# Loop through the batches\n",
    "for i in range(num_batches):\n",
    "    # Get the batch indices\n",
    "    start_idx = i * batch_size\n",
    "    end_idx = min((i+1) * batch_size, X_train_mean.shape[0])\n",
    "\n",
    "    # Get the batch data\n",
    "    X_batch = X_train_mean[start_idx:end_idx]\n",
    "    y_batch = y_train[start_idx:end_idx]\n",
    "\n",
    "    # Perform grid search using cross-validation on the batch data\n",
    "    grid_search = GridSearchCV(estimator=svc, param_grid=param_grid, cv=3)\n",
    "    grid_search.fit(X_batch, y_batch)\n",
    "\n",
    "    # Retrieve the best hyperparameters and append them to the list\n",
    "    best_params_list.append(tuple(sorted(grid_search.best_params_.items())))"
   ]
  },
  {
   "cell_type": "code",
   "execution_count": null,
   "metadata": {},
   "outputs": [],
   "source": [
    "# Compute the most common hyperparameters among all batches\n",
    "\n",
    "# Get the most common set of hyperparameters\n",
    "common_params = dict(Counter(best_params_list).most_common(1)[0][0])\n",
    "\n",
    "# Create a new SVM classifier using the common hyperparameters\n",
    "svc_best = SVC(**common_params)\n",
    "\n",
    "# Fit the new classifier to the whole training data\n",
    "svc_best.fit(X_train_mean, y_train)"
   ]
  },
  {
   "cell_type": "code",
   "execution_count": null,
   "metadata": {},
   "outputs": [],
   "source": [
    "# Calculate the score of svc_best on the test set\n",
    "svc_best.score(X_test_mean, y_test)"
   ]
  },
  {
   "cell_type": "code",
   "execution_count": null,
   "metadata": {},
   "outputs": [],
   "source": [
    "# Calculate the F1 score for the predicted labels compared to the true labels\n",
    "# The average parameter is set to 'macro' to compute the F1 score for each class independently\n",
    "y_pred = svc_best.predict(X_test_mean)"
   ]
  },
  {
   "cell_type": "code",
   "execution_count": null,
   "metadata": {},
   "outputs": [],
   "source": [
    "f1_score(y_test, y_pred, average='macro')"
   ]
  },
  {
   "cell_type": "code",
   "execution_count": null,
   "metadata": {},
   "outputs": [],
   "source": [
    "# Calculate the confusion matrix for the predicted labels compared to the true labels\n",
    "matrx = confusion_matrix(y_test, y_pred)\n",
    "\n",
    "# Create a ConfusionMatrixDisplay object with the confusion matrix\n",
    "# Specify the display labels as a list of range(4) to represent the class labels\n",
    "disp = ConfusionMatrixDisplay(matrx, display_labels = list(range(4)))\n",
    "\n",
    "# Plot the confusion matrix using the ConfusionMatrixDisplay object\n",
    "disp.plot()"
   ]
  },
  {
   "attachments": {},
   "cell_type": "markdown",
   "metadata": {},
   "source": [
    "Max - pooling"
   ]
  },
  {
   "cell_type": "code",
   "execution_count": null,
   "metadata": {},
   "outputs": [],
   "source": [
    "# Initialize a list to store the best hyperparameters for each batch\n",
    "best_params_list = []\n",
    "\n",
    "batch_size = 1000\n",
    "\n",
    "num_batches = X_train_max.shape[0] // batch_size\n",
    "\n",
    "# Loop through the batches\n",
    "for i in range(num_batches):\n",
    "    # Get the batch indices\n",
    "    start_idx = i * batch_size\n",
    "    end_idx = min((i+1) * batch_size, X_train_max.shape[0])\n",
    "\n",
    "    # Get the batch data\n",
    "    X_batch = X_train_max[start_idx:end_idx]\n",
    "    y_batch = y_train[start_idx:end_idx]\n",
    "\n",
    "    # Perform grid search using cross-validation on the batch data\n",
    "    grid_search = GridSearchCV(estimator=svc, param_grid=param_grid, cv=3)\n",
    "    grid_search.fit(X_batch, y_batch)\n",
    "\n",
    "    # Retrieve the best hyperparameters and append them to the list\n",
    "    best_params_list.append(tuple(sorted(grid_search.best_params_.items())))"
   ]
  },
  {
   "cell_type": "code",
   "execution_count": null,
   "metadata": {},
   "outputs": [],
   "source": [
    "# Compute the most common hyperparameters among all batches\n",
    "\n",
    "# Get the most common set of hyperparameters\n",
    "common_params = dict(Counter(best_params_list).most_common(1)[0][0])\n",
    "\n",
    "# Create a new SVM classifier using the common hyperparameters\n",
    "svc_best = SVC(**common_params)\n",
    "\n",
    "# Fit the new classifier to the whole training data\n",
    "svc_best.fit(X_train_max, y_train)"
   ]
  },
  {
   "cell_type": "code",
   "execution_count": null,
   "metadata": {},
   "outputs": [],
   "source": [
    "# Calculate the score of svc_best on the test set\n",
    "svc_best.score(X_test_max, y_test)"
   ]
  },
  {
   "cell_type": "code",
   "execution_count": null,
   "metadata": {},
   "outputs": [],
   "source": [
    "# Calculate the F1 score for the predicted labels compared to the true labels\n",
    "# The average parameter is set to 'macro' to compute the F1 score for each class independently\n",
    "y_pred = svc_best.predict(X_test_max)"
   ]
  },
  {
   "cell_type": "code",
   "execution_count": null,
   "metadata": {},
   "outputs": [],
   "source": [
    "f1_score(y_test, y_pred, average='macro')"
   ]
  },
  {
   "cell_type": "code",
   "execution_count": null,
   "metadata": {},
   "outputs": [],
   "source": [
    "# Calculate the confusion matrix for the predicted labels compared to the true labels\n",
    "matrx = confusion_matrix(y_test, y_pred)\n",
    "\n",
    "# Create a ConfusionMatrixDisplay object with the confusion matrix\n",
    "# Specify the display labels as a list of range(4) to represent the class labels\n",
    "disp = ConfusionMatrixDisplay(matrx, display_labels = list(range(4)))\n",
    "\n",
    "# Plot the confusion matrix using the ConfusionMatrixDisplay object\n",
    "disp.plot()"
   ]
  },
  {
   "attachments": {},
   "cell_type": "markdown",
   "metadata": {},
   "source": [
    "Attention - pooling"
   ]
  },
  {
   "cell_type": "code",
   "execution_count": null,
   "metadata": {},
   "outputs": [],
   "source": [
    "# Initialize a list to store the best hyperparameters for each batch\n",
    "best_params_list = []\n",
    "\n",
    "batch_size = 1000\n",
    "\n",
    "num_batches = X_train_attention.shape[0] // batch_size\n",
    "\n",
    "# Loop through the batches\n",
    "for i in range(num_batches):\n",
    "    # Get the batch indices\n",
    "    start_idx = i * batch_size\n",
    "    end_idx = min((i+1) * batch_size, X_train_attention.shape[0])\n",
    "\n",
    "    # Get the batch data\n",
    "    X_batch = X_train_attention[start_idx:end_idx]\n",
    "    y_batch = y_train[start_idx:end_idx]\n",
    "\n",
    "    # Perform grid search using cross-validation on the batch data\n",
    "    grid_search = GridSearchCV(estimator=svc, param_grid=param_grid, cv=3)\n",
    "    grid_search.fit(X_batch, y_batch)\n",
    "\n",
    "    # Retrieve the best hyperparameters and append them to the list\n",
    "    best_params_list.append(tuple(sorted(grid_search.best_params_.items())))"
   ]
  },
  {
   "cell_type": "code",
   "execution_count": null,
   "metadata": {},
   "outputs": [],
   "source": [
    "# Compute the most common hyperparameters among all batches\n",
    "\n",
    "# Get the most common set of hyperparameters\n",
    "common_params = dict(Counter(best_params_list).most_common(1)[0][0])\n",
    "\n",
    "# Create a new SVM classifier using the common hyperparameters\n",
    "svc_best = SVC(**common_params)\n",
    "\n",
    "# Fit the new classifier to the whole training data\n",
    "svc_best.fit(X_train_attention, y_train)"
   ]
  },
  {
   "cell_type": "code",
   "execution_count": null,
   "metadata": {},
   "outputs": [],
   "source": [
    "# Calculate the score of svc_best on the test set\n",
    "svc_best.score(X_test_attention, y_test)"
   ]
  },
  {
   "cell_type": "code",
   "execution_count": null,
   "metadata": {},
   "outputs": [],
   "source": [
    "# Calculate the F1 score for the predicted labels compared to the true labels\n",
    "# The average parameter is set to 'macro' to compute the F1 score for each class independently\n",
    "y_pred = svc_best.predict(X_test_attention)"
   ]
  },
  {
   "cell_type": "code",
   "execution_count": null,
   "metadata": {},
   "outputs": [],
   "source": [
    "f1_score(y_test, y_pred, average='macro')"
   ]
  },
  {
   "cell_type": "code",
   "execution_count": null,
   "metadata": {},
   "outputs": [],
   "source": [
    "# Calculate the confusion matrix for the predicted labels compared to the true labels\n",
    "matrx = confusion_matrix(y_test, y_pred)\n",
    "\n",
    "# Create a ConfusionMatrixDisplay object with the confusion matrix\n",
    "# Specify the display labels as a list of range(4) to represent the class labels\n",
    "disp = ConfusionMatrixDisplay(matrx, display_labels = list(range(4)))\n",
    "\n",
    "# Plot the confusion matrix using the ConfusionMatrixDisplay object\n",
    "disp.plot()"
   ]
  },
  {
   "attachments": {},
   "cell_type": "markdown",
   "metadata": {},
   "source": [
    "Mixed - pooling"
   ]
  },
  {
   "cell_type": "code",
   "execution_count": null,
   "metadata": {},
   "outputs": [],
   "source": [
    "# Initialize a list to store the best hyperparameters for each batch\n",
    "best_params_list = []\n",
    "\n",
    "batch_size = 1000\n",
    "\n",
    "num_batches = X_train_mixed.shape[0] // batch_size\n",
    "\n",
    "# Loop through the batches\n",
    "for i in range(num_batches):\n",
    "    # Get the batch indices\n",
    "    start_idx = i * batch_size\n",
    "    end_idx = min((i+1) * batch_size, X_train_mixed.shape[0])\n",
    "\n",
    "    # Get the batch data\n",
    "    X_batch = X_train_mixed[start_idx:end_idx]\n",
    "    y_batch = y_train[start_idx:end_idx]\n",
    "\n",
    "    # Perform grid search using cross-validation on the batch data\n",
    "    grid_search = GridSearchCV(estimator=svc, param_grid=param_grid, cv=3)\n",
    "    grid_search.fit(X_batch, y_batch)\n",
    "\n",
    "    # Retrieve the best hyperparameters and append them to the list\n",
    "    best_params_list.append(tuple(sorted(grid_search.best_params_.items())))"
   ]
  },
  {
   "cell_type": "code",
   "execution_count": null,
   "metadata": {},
   "outputs": [],
   "source": [
    "# Compute the most common hyperparameters among all batches\n",
    "\n",
    "# Get the most common set of hyperparameters\n",
    "common_params = dict(Counter(best_params_list).most_common(1)[0][0])\n",
    "\n",
    "# Create a new SVM classifier using the common hyperparameters\n",
    "svc_best = SVC(**common_params)\n",
    "\n",
    "# Fit the new classifier to the whole training data\n",
    "svc_best.fit(X_train_mixed, y_train)"
   ]
  },
  {
   "cell_type": "code",
   "execution_count": null,
   "metadata": {},
   "outputs": [],
   "source": [
    "# Calculate the score of svc_best on the test set\n",
    "svc_best.score(X_test_mixed, y_test)"
   ]
  },
  {
   "cell_type": "code",
   "execution_count": null,
   "metadata": {},
   "outputs": [],
   "source": [
    "# Calculate the F1 score for the predicted labels compared to the true labels\n",
    "# The average parameter is set to 'macro' to compute the F1 score for each class independently\n",
    "y_pred = svc_best.predict(X_test_mixed)"
   ]
  },
  {
   "cell_type": "code",
   "execution_count": null,
   "metadata": {},
   "outputs": [],
   "source": [
    "f1_score(y_test, y_pred, average='macro')"
   ]
  },
  {
   "cell_type": "code",
   "execution_count": null,
   "metadata": {},
   "outputs": [],
   "source": [
    "# Calculate the confusion matrix for the predicted labels compared to the true labels\n",
    "matrx = confusion_matrix(y_test, y_pred)\n",
    "\n",
    "# Create a ConfusionMatrixDisplay object with the confusion matrix \n",
    "# Specify the display labels as a list of range(4) to represent the class labels\n",
    "disp = ConfusionMatrixDisplay(matrx, display_labels = list(range(4)))\n",
    "\n",
    "# Plot the confusion matrix using the ConfusionMatrixDisplay object\n",
    "disp.plot()"
   ]
  }
 ],
 "metadata": {
  "kernelspec": {
   "display_name": "Python 3",
   "language": "python",
   "name": "python3"
  },
  "language_info": {
   "codemirror_mode": {
    "name": "ipython",
    "version": 3
   },
   "file_extension": ".py",
   "mimetype": "text/x-python",
   "name": "python",
   "nbconvert_exporter": "python",
   "pygments_lexer": "ipython3",
   "version": "3.10.8"
  },
  "orig_nbformat": 4
 },
 "nbformat": 4,
 "nbformat_minor": 2
}
